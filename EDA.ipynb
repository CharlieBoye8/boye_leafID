{
 "cells": [
  {
   "cell_type": "markdown",
   "id": "cc5acaa9",
   "metadata": {},
   "source": [
    "# Exploring LeafSnap Dataset"
   ]
  },
  {
   "cell_type": "code",
   "execution_count": null,
   "id": "d0899773",
   "metadata": {
    "vscode": {
     "languageId": "plaintext"
    }
   },
   "outputs": [],
   "source": []
  }
 ],
 "metadata": {
  "language_info": {
   "name": "python"
  }
 },
 "nbformat": 4,
 "nbformat_minor": 5
}
